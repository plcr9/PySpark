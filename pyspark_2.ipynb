{
 "cells": [
  {
   "cell_type": "code",
   "execution_count": 1,
   "metadata": {},
   "outputs": [],
   "source": [
    "from pyspark.sql import SparkSession"
   ]
  },
  {
   "cell_type": "code",
   "execution_count": 3,
   "metadata": {},
   "outputs": [],
   "source": [
    "spark=SparkSession.builder.appName('Dataframe').getOrCreate()"
   ]
  },
  {
   "cell_type": "code",
   "execution_count": 4,
   "metadata": {},
   "outputs": [
    {
     "data": {
      "text/html": [
       "\n",
       "            <div>\n",
       "                <p><b>SparkSession - in-memory</b></p>\n",
       "                \n",
       "        <div>\n",
       "            <p><b>SparkContext</b></p>\n",
       "\n",
       "            <p><a href=\"http://192.168.1.123:4041\">Spark UI</a></p>\n",
       "\n",
       "            <dl>\n",
       "              <dt>Version</dt>\n",
       "                <dd><code>v3.5.1</code></dd>\n",
       "              <dt>Master</dt>\n",
       "                <dd><code>local[*]</code></dd>\n",
       "              <dt>AppName</dt>\n",
       "                <dd><code>Dataframe</code></dd>\n",
       "            </dl>\n",
       "        </div>\n",
       "        \n",
       "            </div>\n",
       "        "
      ],
      "text/plain": [
       "<pyspark.sql.session.SparkSession at 0x107815410>"
      ]
     },
     "execution_count": 4,
     "metadata": {},
     "output_type": "execute_result"
    }
   ],
   "source": [
    "spark"
   ]
  },
  {
   "cell_type": "code",
   "execution_count": 5,
   "metadata": {},
   "outputs": [
    {
     "name": "stderr",
     "output_type": "stream",
     "text": [
      "                                                                                \r"
     ]
    }
   ],
   "source": [
    "df_pyspark=spark.read.option('header', 'true').csv('test2.csv',inferSchema=True)"
   ]
  },
  {
   "cell_type": "code",
   "execution_count": 6,
   "metadata": {},
   "outputs": [
    {
     "name": "stdout",
     "output_type": "stream",
     "text": [
      "root\n",
      " |-- Player: string (nullable = true)\n",
      " |-- Country: string (nullable = true)\n",
      " |-- Continent: string (nullable = true)\n",
      " |-- Titles: integer (nullable = true)\n",
      "\n"
     ]
    }
   ],
   "source": [
    "df_pyspark.printSchema()"
   ]
  },
  {
   "cell_type": "code",
   "execution_count": 7,
   "metadata": {},
   "outputs": [
    {
     "name": "stderr",
     "output_type": "stream",
     "text": [
      "                                                                                \r"
     ]
    },
    {
     "name": "stdout",
     "output_type": "stream",
     "text": [
      "+----------------+----------+---------+------+\n",
      "|          Player|   Country|Continent|Titles|\n",
      "+----------------+----------+---------+------+\n",
      "|  Novak Djokovic|    Serbia|   Europe|    97|\n",
      "|   Jannik Sinner|     Italy|   Europe|    13|\n",
      "|  Carlos Alcaraz|     Spain|   Europe|    13|\n",
      "| Daniil Medvedev|Unattached|   Europe|    20|\n",
      "|Alexander Zverev|   Germany|   Europe|    21|\n",
      "|   Andrey Rublev|Unattached|   Europe|    15|\n",
      "|     Holger Rune|   Denmark|   Europe|     4|\n",
      "|     Casper Ruud|    Norway|   Europe|    10|\n",
      "| Grigor Dimitrov|  Bulgaria|   Europe|     9|\n",
      "|  Hubert Hurkacz|    Poland|   Europe|     7|\n",
      "+----------------+----------+---------+------+\n",
      "\n"
     ]
    }
   ],
   "source": [
    "df_pyspark=spark.read.csv('test2.csv',header=True,inferSchema=True)\n",
    "df_pyspark.show()"
   ]
  },
  {
   "cell_type": "code",
   "execution_count": 8,
   "metadata": {},
   "outputs": [
    {
     "data": {
      "text/plain": [
       "pyspark.sql.dataframe.DataFrame"
      ]
     },
     "execution_count": 8,
     "metadata": {},
     "output_type": "execute_result"
    }
   ],
   "source": [
    "type(df_pyspark)"
   ]
  },
  {
   "cell_type": "code",
   "execution_count": 9,
   "metadata": {},
   "outputs": [
    {
     "data": {
      "text/plain": [
       "[Row(Player='Novak Djokovic', Country='Serbia', Continent='Europe', Titles=97),\n",
       " Row(Player='Jannik Sinner', Country='Italy', Continent='Europe', Titles=13),\n",
       " Row(Player='Carlos Alcaraz', Country='Spain', Continent='Europe', Titles=13)]"
      ]
     },
     "execution_count": 9,
     "metadata": {},
     "output_type": "execute_result"
    }
   ],
   "source": [
    "df_pyspark.head(3)"
   ]
  },
  {
   "cell_type": "code",
   "execution_count": 10,
   "metadata": {},
   "outputs": [
    {
     "name": "stdout",
     "output_type": "stream",
     "text": [
      "+----------------+----------+---------+------+\n",
      "|          Player|   Country|Continent|Titles|\n",
      "+----------------+----------+---------+------+\n",
      "|  Novak Djokovic|    Serbia|   Europe|    97|\n",
      "|   Jannik Sinner|     Italy|   Europe|    13|\n",
      "|  Carlos Alcaraz|     Spain|   Europe|    13|\n",
      "| Daniil Medvedev|Unattached|   Europe|    20|\n",
      "|Alexander Zverev|   Germany|   Europe|    21|\n",
      "|   Andrey Rublev|Unattached|   Europe|    15|\n",
      "|     Holger Rune|   Denmark|   Europe|     4|\n",
      "|     Casper Ruud|    Norway|   Europe|    10|\n",
      "| Grigor Dimitrov|  Bulgaria|   Europe|     9|\n",
      "|  Hubert Hurkacz|    Poland|   Europe|     7|\n",
      "+----------------+----------+---------+------+\n",
      "\n"
     ]
    }
   ],
   "source": [
    "df_pyspark.show()"
   ]
  },
  {
   "cell_type": "code",
   "execution_count": 11,
   "metadata": {},
   "outputs": [
    {
     "name": "stdout",
     "output_type": "stream",
     "text": [
      "+----------------+------+\n",
      "|          Player|Titles|\n",
      "+----------------+------+\n",
      "|  Novak Djokovic|    97|\n",
      "|   Jannik Sinner|    13|\n",
      "|  Carlos Alcaraz|    13|\n",
      "| Daniil Medvedev|    20|\n",
      "|Alexander Zverev|    21|\n",
      "|   Andrey Rublev|    15|\n",
      "|     Holger Rune|     4|\n",
      "|     Casper Ruud|    10|\n",
      "| Grigor Dimitrov|     9|\n",
      "|  Hubert Hurkacz|     7|\n",
      "+----------------+------+\n",
      "\n"
     ]
    }
   ],
   "source": [
    "df_pyspark.select(['Player', 'Titles']).show()"
   ]
  },
  {
   "cell_type": "code",
   "execution_count": 12,
   "metadata": {},
   "outputs": [
    {
     "data": {
      "text/plain": [
       "Column<'Player'>"
      ]
     },
     "execution_count": 12,
     "metadata": {},
     "output_type": "execute_result"
    }
   ],
   "source": [
    "df_pyspark['Player']"
   ]
  },
  {
   "cell_type": "code",
   "execution_count": 13,
   "metadata": {},
   "outputs": [
    {
     "data": {
      "text/plain": [
       "[('Player', 'string'),\n",
       " ('Country', 'string'),\n",
       " ('Continent', 'string'),\n",
       " ('Titles', 'int')]"
      ]
     },
     "execution_count": 13,
     "metadata": {},
     "output_type": "execute_result"
    }
   ],
   "source": [
    "df_pyspark.dtypes"
   ]
  },
  {
   "cell_type": "code",
   "execution_count": 14,
   "metadata": {},
   "outputs": [
    {
     "name": "stderr",
     "output_type": "stream",
     "text": [
      "24/04/02 18:36:25 WARN SparkStringUtils: Truncated the string representation of a plan since it was too large. This behavior can be adjusted by setting 'spark.sql.debug.maxToStringFields'.\n",
      "[Stage 10:>                                                         (0 + 1) / 1]\r"
     ]
    },
    {
     "name": "stdout",
     "output_type": "stream",
     "text": [
      "+-------+----------------+----------+---------+------------------+\n",
      "|summary|          Player|   Country|Continent|            Titles|\n",
      "+-------+----------------+----------+---------+------------------+\n",
      "|  count|              10|        10|       10|                10|\n",
      "|   mean|            NULL|      NULL|     NULL|              20.9|\n",
      "| stddev|            NULL|      NULL|     NULL|27.265973911330093|\n",
      "|    min|Alexander Zverev|  Bulgaria|   Europe|                 4|\n",
      "|    max|  Novak Djokovic|Unattached|   Europe|                97|\n",
      "+-------+----------------+----------+---------+------------------+\n",
      "\n"
     ]
    },
    {
     "name": "stderr",
     "output_type": "stream",
     "text": [
      "                                                                                \r"
     ]
    }
   ],
   "source": [
    "df_pyspark.describe().show()"
   ]
  },
  {
   "cell_type": "code",
   "execution_count": 15,
   "metadata": {},
   "outputs": [],
   "source": [
    "df_pyspark=df_pyspark.withColumn('Players get an extra title',df_pyspark['Titles']+1)"
   ]
  },
  {
   "cell_type": "code",
   "execution_count": 16,
   "metadata": {},
   "outputs": [
    {
     "name": "stderr",
     "output_type": "stream",
     "text": [
      "[Stage 11:>                                                         (0 + 1) / 1]\r"
     ]
    },
    {
     "name": "stdout",
     "output_type": "stream",
     "text": [
      "+----------------+----------+---------+------+--------------------------+\n",
      "|          Player|   Country|Continent|Titles|Players get an extra title|\n",
      "+----------------+----------+---------+------+--------------------------+\n",
      "|  Novak Djokovic|    Serbia|   Europe|    97|                        98|\n",
      "|   Jannik Sinner|     Italy|   Europe|    13|                        14|\n",
      "|  Carlos Alcaraz|     Spain|   Europe|    13|                        14|\n",
      "| Daniil Medvedev|Unattached|   Europe|    20|                        21|\n",
      "|Alexander Zverev|   Germany|   Europe|    21|                        22|\n",
      "|   Andrey Rublev|Unattached|   Europe|    15|                        16|\n",
      "|     Holger Rune|   Denmark|   Europe|     4|                         5|\n",
      "|     Casper Ruud|    Norway|   Europe|    10|                        11|\n",
      "| Grigor Dimitrov|  Bulgaria|   Europe|     9|                        10|\n",
      "|  Hubert Hurkacz|    Poland|   Europe|     7|                         8|\n",
      "+----------------+----------+---------+------+--------------------------+\n",
      "\n"
     ]
    },
    {
     "name": "stderr",
     "output_type": "stream",
     "text": [
      "                                                                                \r"
     ]
    }
   ],
   "source": [
    "df_pyspark.show()"
   ]
  },
  {
   "cell_type": "code",
   "execution_count": 17,
   "metadata": {},
   "outputs": [],
   "source": [
    "df_pyspark=df_pyspark.drop('Players get an extra title')"
   ]
  },
  {
   "cell_type": "code",
   "execution_count": 18,
   "metadata": {},
   "outputs": [
    {
     "name": "stdout",
     "output_type": "stream",
     "text": [
      "+----------------+----------+---------+------+\n",
      "|          Player|   Country|Continent|Titles|\n",
      "+----------------+----------+---------+------+\n",
      "|  Novak Djokovic|    Serbia|   Europe|    97|\n",
      "|   Jannik Sinner|     Italy|   Europe|    13|\n",
      "|  Carlos Alcaraz|     Spain|   Europe|    13|\n",
      "| Daniil Medvedev|Unattached|   Europe|    20|\n",
      "|Alexander Zverev|   Germany|   Europe|    21|\n",
      "|   Andrey Rublev|Unattached|   Europe|    15|\n",
      "|     Holger Rune|   Denmark|   Europe|     4|\n",
      "|     Casper Ruud|    Norway|   Europe|    10|\n",
      "| Grigor Dimitrov|  Bulgaria|   Europe|     9|\n",
      "|  Hubert Hurkacz|    Poland|   Europe|     7|\n",
      "+----------------+----------+---------+------+\n",
      "\n"
     ]
    }
   ],
   "source": [
    "df_pyspark.show()"
   ]
  },
  {
   "cell_type": "code",
   "execution_count": 19,
   "metadata": {},
   "outputs": [
    {
     "name": "stdout",
     "output_type": "stream",
     "text": [
      "+----------------+----------+---------+------+\n",
      "|   Tennis Player|   Country|Continent|Titles|\n",
      "+----------------+----------+---------+------+\n",
      "|  Novak Djokovic|    Serbia|   Europe|    97|\n",
      "|   Jannik Sinner|     Italy|   Europe|    13|\n",
      "|  Carlos Alcaraz|     Spain|   Europe|    13|\n",
      "| Daniil Medvedev|Unattached|   Europe|    20|\n",
      "|Alexander Zverev|   Germany|   Europe|    21|\n",
      "|   Andrey Rublev|Unattached|   Europe|    15|\n",
      "|     Holger Rune|   Denmark|   Europe|     4|\n",
      "|     Casper Ruud|    Norway|   Europe|    10|\n",
      "| Grigor Dimitrov|  Bulgaria|   Europe|     9|\n",
      "|  Hubert Hurkacz|    Poland|   Europe|     7|\n",
      "+----------------+----------+---------+------+\n",
      "\n"
     ]
    }
   ],
   "source": [
    "df_pyspark.withColumnRenamed('Player', 'Tennis Player').show()"
   ]
  }
 ],
 "metadata": {
  "kernelspec": {
   "display_name": "Python 3",
   "language": "python",
   "name": "python3"
  },
  "language_info": {
   "codemirror_mode": {
    "name": "ipython",
    "version": 3
   },
   "file_extension": ".py",
   "mimetype": "text/x-python",
   "name": "python",
   "nbconvert_exporter": "python",
   "pygments_lexer": "ipython3",
   "version": "3.11.7"
  },
  "orig_nbformat": 4
 },
 "nbformat": 4,
 "nbformat_minor": 2
}
