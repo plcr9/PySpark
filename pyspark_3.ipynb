{
 "cells": [
  {
   "cell_type": "code",
   "execution_count": 43,
   "metadata": {},
   "outputs": [],
   "source": [
    "from pyspark.sql import SparkSession\n",
    "spark=SparkSession.builder.appName('Practice').getOrCreate()"
   ]
  },
  {
   "cell_type": "code",
   "execution_count": 44,
   "metadata": {},
   "outputs": [],
   "source": [
    "df_pyspark=spark.read.csv('test3.csv',header=True,inferSchema=True)"
   ]
  },
  {
   "cell_type": "code",
   "execution_count": 24,
   "metadata": {},
   "outputs": [
    {
     "name": "stdout",
     "output_type": "stream",
     "text": [
      "root\n",
      " |-- name: string (nullable = true)\n",
      " |-- age: integer (nullable = true)\n",
      " |-- experience: integer (nullable = true)\n",
      " |-- salary: integer (nullable = true)\n",
      "\n"
     ]
    }
   ],
   "source": [
    "df_pyspark.printSchema()"
   ]
  },
  {
   "cell_type": "code",
   "execution_count": 45,
   "metadata": {},
   "outputs": [
    {
     "name": "stdout",
     "output_type": "stream",
     "text": [
      "+------+----+----------+------+\n",
      "|  Name| Age|Experience|Salary|\n",
      "+------+----+----------+------+\n",
      "|   Jon|  47|        26|250000|\n",
      "|Zeinab|  35|         9|165000|\n",
      "|Sheena|  41|        19|150000|\n",
      "| Tanya|  30|         7|120000|\n",
      "|  Alex|  35|        11|180000|\n",
      "|Daljit|  33|        10|100000|\n",
      "|  Gaby|NULL|      NULL| 75000|\n",
      "|  NULL|  34|        10| 60000|\n",
      "|  NULL|  36|      NULL|  NULL|\n",
      "+------+----+----------+------+\n",
      "\n"
     ]
    }
   ],
   "source": [
    "df_pyspark.show()"
   ]
  },
  {
   "cell_type": "code",
   "execution_count": 46,
   "metadata": {},
   "outputs": [
    {
     "name": "stdout",
     "output_type": "stream",
     "text": [
      "+------+----+----------+------+\n",
      "|  Name| Age|Experience|Salary|\n",
      "+------+----+----------+------+\n",
      "|   Jon|  47|        26|250000|\n",
      "|Zeinab|  35|         9|165000|\n",
      "|Sheena|  41|        19|150000|\n",
      "| Tanya|  30|         7|120000|\n",
      "|  Alex|  35|        11|180000|\n",
      "|Daljit|  33|        10|100000|\n",
      "|  Gaby|NULL|      NULL| 75000|\n",
      "|  NULL|  34|        10| 60000|\n",
      "|  NULL|  36|      NULL|  NULL|\n",
      "+------+----+----------+------+\n",
      "\n"
     ]
    }
   ],
   "source": [
    "df_pyspark.drop('Continent').show()"
   ]
  },
  {
   "cell_type": "code",
   "execution_count": 47,
   "metadata": {},
   "outputs": [
    {
     "name": "stdout",
     "output_type": "stream",
     "text": [
      "+------+----+----------+------+\n",
      "|  Name| Age|Experience|Salary|\n",
      "+------+----+----------+------+\n",
      "|   Jon|  47|        26|250000|\n",
      "|Zeinab|  35|         9|165000|\n",
      "|Sheena|  41|        19|150000|\n",
      "| Tanya|  30|         7|120000|\n",
      "|  Alex|  35|        11|180000|\n",
      "|Daljit|  33|        10|100000|\n",
      "|  Gaby|NULL|      NULL| 75000|\n",
      "|  NULL|  34|        10| 60000|\n",
      "|  NULL|  36|      NULL|  NULL|\n",
      "+------+----+----------+------+\n",
      "\n"
     ]
    },
    {
     "name": "stderr",
     "output_type": "stream",
     "text": [
      "                                                                                \r"
     ]
    }
   ],
   "source": [
    "df_pyspark.show()"
   ]
  },
  {
   "cell_type": "code",
   "execution_count": 48,
   "metadata": {},
   "outputs": [
    {
     "name": "stdout",
     "output_type": "stream",
     "text": [
      "+------+---+----------+------+\n",
      "|  Name|Age|Experience|Salary|\n",
      "+------+---+----------+------+\n",
      "|   Jon| 47|        26|250000|\n",
      "|Zeinab| 35|         9|165000|\n",
      "|Sheena| 41|        19|150000|\n",
      "| Tanya| 30|         7|120000|\n",
      "|  Alex| 35|        11|180000|\n",
      "|Daljit| 33|        10|100000|\n",
      "+------+---+----------+------+\n",
      "\n"
     ]
    }
   ],
   "source": [
    "df_pyspark.na.drop().show()"
   ]
  },
  {
   "cell_type": "code",
   "execution_count": 49,
   "metadata": {},
   "outputs": [
    {
     "name": "stdout",
     "output_type": "stream",
     "text": [
      "+------+---+----------+------+\n",
      "|  Name|Age|Experience|Salary|\n",
      "+------+---+----------+------+\n",
      "|   Jon| 47|        26|250000|\n",
      "|Zeinab| 35|         9|165000|\n",
      "|Sheena| 41|        19|150000|\n",
      "| Tanya| 30|         7|120000|\n",
      "|  Alex| 35|        11|180000|\n",
      "|Daljit| 33|        10|100000|\n",
      "+------+---+----------+------+\n",
      "\n"
     ]
    }
   ],
   "source": [
    "df_pyspark.na.drop(how=\"any\").show()"
   ]
  },
  {
   "cell_type": "code",
   "execution_count": 50,
   "metadata": {},
   "outputs": [
    {
     "name": "stdout",
     "output_type": "stream",
     "text": [
      "+------+---+----------+------+\n",
      "|  Name|Age|Experience|Salary|\n",
      "+------+---+----------+------+\n",
      "|   Jon| 47|        26|250000|\n",
      "|Zeinab| 35|         9|165000|\n",
      "|Sheena| 41|        19|150000|\n",
      "| Tanya| 30|         7|120000|\n",
      "|  Alex| 35|        11|180000|\n",
      "|Daljit| 33|        10|100000|\n",
      "|  NULL| 34|        10| 60000|\n",
      "+------+---+----------+------+\n",
      "\n"
     ]
    }
   ],
   "source": [
    "df_pyspark.na.drop(how=\"any\",thresh=3).show()"
   ]
  },
  {
   "cell_type": "code",
   "execution_count": 51,
   "metadata": {},
   "outputs": [
    {
     "name": "stdout",
     "output_type": "stream",
     "text": [
      "+------+---+----------+------+\n",
      "|  Name|Age|Experience|Salary|\n",
      "+------+---+----------+------+\n",
      "|   Jon| 47|        26|250000|\n",
      "|Zeinab| 35|         9|165000|\n",
      "|Sheena| 41|        19|150000|\n",
      "| Tanya| 30|         7|120000|\n",
      "|  Alex| 35|        11|180000|\n",
      "|Daljit| 33|        10|100000|\n",
      "|  NULL| 34|        10| 60000|\n",
      "|  NULL| 36|      NULL|  NULL|\n",
      "+------+---+----------+------+\n",
      "\n"
     ]
    }
   ],
   "source": [
    "df_pyspark.na.drop(how=\"any\",subset=[\"Age\"]).show()"
   ]
  },
  {
   "cell_type": "code",
   "execution_count": 52,
   "metadata": {},
   "outputs": [
    {
     "name": "stdout",
     "output_type": "stream",
     "text": [
      "+------+----+----------+------+\n",
      "|  Name| Age|Experience|Salary|\n",
      "+------+----+----------+------+\n",
      "|   Jon|  47|        26|250000|\n",
      "|Zeinab|  35|         9|165000|\n",
      "|Sheena|  41|        19|150000|\n",
      "| Tanya|  30|         7|120000|\n",
      "|  Alex|  35|        11|180000|\n",
      "|Daljit|  33|        10|100000|\n",
      "|  Gaby|NULL|      NULL| 75000|\n",
      "|  NULL|  34|        10| 60000|\n",
      "|  NULL|  36|      NULL|  NULL|\n",
      "+------+----+----------+------+\n",
      "\n"
     ]
    }
   ],
   "source": [
    "df_pyspark.na.fill('Missing Values',['Experience', 'Age']).show()"
   ]
  },
  {
   "cell_type": "code",
   "execution_count": 53,
   "metadata": {},
   "outputs": [
    {
     "name": "stdout",
     "output_type": "stream",
     "text": [
      "+------+----+----------+------+\n",
      "|  Name| Age|Experience|Salary|\n",
      "+------+----+----------+------+\n",
      "|   Jon|  47|        26|250000|\n",
      "|Zeinab|  35|         9|165000|\n",
      "|Sheena|  41|        19|150000|\n",
      "| Tanya|  30|         7|120000|\n",
      "|  Alex|  35|        11|180000|\n",
      "|Daljit|  33|        10|100000|\n",
      "|  Gaby|NULL|      NULL| 75000|\n",
      "|  NULL|  34|        10| 60000|\n",
      "|  NULL|  36|      NULL|  NULL|\n",
      "+------+----+----------+------+\n",
      "\n"
     ]
    }
   ],
   "source": [
    "df_pyspark.show()"
   ]
  },
  {
   "cell_type": "code",
   "execution_count": 54,
   "metadata": {},
   "outputs": [
    {
     "name": "stdout",
     "output_type": "stream",
     "text": [
      "root\n",
      " |-- Name: string (nullable = true)\n",
      " |-- Age: integer (nullable = true)\n",
      " |-- Experience: integer (nullable = true)\n",
      " |-- Salary: integer (nullable = true)\n",
      "\n"
     ]
    }
   ],
   "source": [
    "df_pyspark.printSchema()"
   ]
  },
  {
   "cell_type": "code",
   "execution_count": 55,
   "metadata": {},
   "outputs": [],
   "source": [
    "from pyspark.ml.feature import Imputer \n",
    "\n",
    "imputer = Imputer(\n",
    "    inputCols=['Age', 'Experience', 'Salary'],\n",
    "    outputCols=[\"{}_imputed\".format(c) for c in ['Age', 'Experience', 'Salary']]\n",
    ").setStrategy(\"median\")"
   ]
  },
  {
   "cell_type": "code",
   "execution_count": 56,
   "metadata": {},
   "outputs": [
    {
     "name": "stderr",
     "output_type": "stream",
     "text": [
      "                                                                                \r"
     ]
    },
    {
     "name": "stdout",
     "output_type": "stream",
     "text": [
      "+------+----+----------+------+-----------+------------------+--------------+\n",
      "|  Name| Age|Experience|Salary|Age_imputed|Experience_imputed|Salary_imputed|\n",
      "+------+----+----------+------+-----------+------------------+--------------+\n",
      "|   Jon|  47|        26|250000|         47|                26|        250000|\n",
      "|Zeinab|  35|         9|165000|         35|                 9|        165000|\n",
      "|Sheena|  41|        19|150000|         41|                19|        150000|\n",
      "| Tanya|  30|         7|120000|         30|                 7|        120000|\n",
      "|  Alex|  35|        11|180000|         35|                11|        180000|\n",
      "|Daljit|  33|        10|100000|         33|                10|        100000|\n",
      "|  Gaby|NULL|      NULL| 75000|         35|                10|         75000|\n",
      "|  NULL|  34|        10| 60000|         34|                10|         60000|\n",
      "|  NULL|  36|      NULL|  NULL|         36|                10|        120000|\n",
      "+------+----+----------+------+-----------+------------------+--------------+\n",
      "\n"
     ]
    }
   ],
   "source": [
    "imputer.fit(df_pyspark).transform(df_pyspark).show()"
   ]
  }
 ],
 "metadata": {
  "kernelspec": {
   "display_name": "Python 3",
   "language": "python",
   "name": "python3"
  },
  "language_info": {
   "codemirror_mode": {
    "name": "ipython",
    "version": 3
   },
   "file_extension": ".py",
   "mimetype": "text/x-python",
   "name": "python",
   "nbconvert_exporter": "python",
   "pygments_lexer": "ipython3",
   "version": "3.11.7"
  },
  "orig_nbformat": 4
 },
 "nbformat": 4,
 "nbformat_minor": 2
}
